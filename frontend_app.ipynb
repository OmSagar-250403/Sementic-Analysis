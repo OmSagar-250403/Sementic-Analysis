{
 "cells": [
  {
   "cell_type": "markdown",
   "metadata": {},
   "source": [
    "## Importing Required Packages"
   ]
  },
  {
   "cell_type": "code",
   "execution_count": 32,
   "metadata": {},
   "outputs": [],
   "source": [
    "import pandas as pd\n",
    "import gradio as gr\n",
    "from sklearn.metrics.pairwise import cosine_similarity\n",
    "from sklearn.feature_extraction.text import TfidfVectorizer\n",
    "from gensim.models.doc2vec import Doc2Vec, TaggedDocument\n",
    "from sentence_transformers import SentenceTransformer"
   ]
  },
  {
   "cell_type": "markdown",
   "metadata": {},
   "source": [
    "## Load job postings from CSV"
   ]
  },
  {
   "cell_type": "code",
   "execution_count": 33,
   "metadata": {},
   "outputs": [],
   "source": [
    "df = pd.read_csv('E:/Codes/Python/Project/train.csv')"
   ]
  },
  {
   "cell_type": "markdown",
   "metadata": {},
   "source": [
    "## Precompute TF-IDF embeddings"
   ]
  },
  {
   "cell_type": "code",
   "execution_count": 34,
   "metadata": {},
   "outputs": [],
   "source": [
    "tfidf_vectorizer = TfidfVectorizer(stop_words='english')\n",
    "tfidf_matrix = tfidf_vectorizer.fit_transform(df['description'])"
   ]
  },
  {
   "cell_type": "markdown",
   "metadata": {},
   "source": [
    "## Precompute Doc2Vec embeddings"
   ]
  },
  {
   "cell_type": "code",
   "execution_count": 35,
   "metadata": {},
   "outputs": [],
   "source": [
    "documents = [TaggedDocument(doc.split(), [i]) for i, doc in enumerate(df['description'])]\n",
    "doc2vec_model = Doc2Vec(documents, vector_size=50, window=2, min_count=1, workers=4)\n",
    "doc2vec_embeddings = [doc2vec_model.infer_vector(doc.split()) for doc in df['description']]"
   ]
  },
  {
   "cell_type": "markdown",
   "metadata": {},
   "source": [
    "## Precompute MiniLM embeddings"
   ]
  },
  {
   "cell_type": "code",
   "execution_count": 36,
   "metadata": {},
   "outputs": [
    {
     "name": "stderr",
     "output_type": "stream",
     "text": [
      "C:\\Users\\omsag\\AppData\\Roaming\\Python\\Python311\\site-packages\\huggingface_hub\\file_download.py:1132: FutureWarning: `resume_download` is deprecated and will be removed in version 1.0.0. Downloads always resume when possible. If you want to force a new download, use `force_download=True`.\n",
      "  warnings.warn(\n"
     ]
    }
   ],
   "source": [
    "minilm_model = SentenceTransformer('all-MiniLM-L6-v2')\n",
    "minilm_embeddings = minilm_model.encode(df['description'].tolist())"
   ]
  },
  {
   "cell_type": "markdown",
   "metadata": {},
   "source": [
    "## Function to perform semantic search using TF-IDF"
   ]
  },
  {
   "cell_type": "code",
   "execution_count": 37,
   "metadata": {},
   "outputs": [],
   "source": [
    "def tfidf_search(query, top_n=5):\n",
    "    query_vector = tfidf_vectorizer.transform([query])\n",
    "    similarities = cosine_similarity(query_vector, tfidf_matrix).flatten()\n",
    "    df['similarity'] = similarities\n",
    "    results = df.nlargest(top_n, 'similarity')\n",
    "    return results[['title', 'company', 'location', 'description', 'similarity']].to_dict(orient='records')"
   ]
  },
  {
   "cell_type": "markdown",
   "metadata": {},
   "source": [
    "## Function to perform semantic search using Doc2Vec"
   ]
  },
  {
   "cell_type": "code",
   "execution_count": 38,
   "metadata": {},
   "outputs": [],
   "source": [
    "def doc2vec_search(query, top_n=5):\n",
    "    query_vector = doc2vec_model.infer_vector(query.split())\n",
    "    similarities = cosine_similarity([query_vector], doc2vec_embeddings).flatten()\n",
    "    df['similarity'] = similarities\n",
    "    results = df.nlargest(top_n, 'similarity')\n",
    "    return results[['title', 'company', 'location', 'description', 'similarity']].to_dict(orient='records')"
   ]
  },
  {
   "cell_type": "markdown",
   "metadata": {},
   "source": [
    "## Function to perform semantic search using MiniLM"
   ]
  },
  {
   "cell_type": "code",
   "execution_count": 39,
   "metadata": {},
   "outputs": [],
   "source": [
    "def minilm_search(query, top_n=5):\n",
    "    query_embedding = minilm_model.encode([query])\n",
    "    similarities = cosine_similarity(query_embedding, minilm_embeddings).flatten()\n",
    "    df['similarity'] = similarities\n",
    "    results = df.nlargest(top_n, 'similarity')\n",
    "    return results[['title', 'company', 'location', 'description', 'similarity']].to_dict(orient='records')"
   ]
  },
  {
   "cell_type": "markdown",
   "metadata": {},
   "source": [
    "## Gradio interface"
   ]
  },
  {
   "cell_type": "code",
   "execution_count": 40,
   "metadata": {},
   "outputs": [],
   "source": [
    "def search_interface(query, model):\n",
    "    if model == 'TF-IDF':\n",
    "        results = tfidf_search(query)\n",
    "    elif model == 'Doc2Vec':\n",
    "        results = doc2vec_search(query)\n",
    "    else:\n",
    "        results = minilm_search(query)\n",
    "    \n",
    "    formatted_results = \"\\n\\n\".join([f\"**{r['title']}** at {r['company']} in {r['location']}\\n\\n{r['description']}\\n\\nSimilarity: {r['similarity']:.2f}\" for r in results])\n",
    "    return formatted_results"
   ]
  },
  {
   "cell_type": "markdown",
   "metadata": {},
   "source": [
    "## Gradio UI"
   ]
  },
  {
   "cell_type": "code",
   "execution_count": 41,
   "metadata": {},
   "outputs": [
    {
     "name": "stdout",
     "output_type": "stream",
     "text": [
      "Running on local URL:  http://127.0.0.1:7864\n",
      "\n",
      "To create a public link, set `share=True` in `launch()`.\n"
     ]
    },
    {
     "data": {
      "text/html": [
       "<div><iframe src=\"http://127.0.0.1:7864/\" width=\"100%\" height=\"500\" allow=\"autoplay; camera; microphone; clipboard-read; clipboard-write;\" frameborder=\"0\" allowfullscreen></iframe></div>"
      ],
      "text/plain": [
       "<IPython.core.display.HTML object>"
      ]
     },
     "metadata": {},
     "output_type": "display_data"
    },
    {
     "data": {
      "text/plain": []
     },
     "execution_count": 41,
     "metadata": {},
     "output_type": "execute_result"
    }
   ],
   "source": [
    "iface = gr.Interface(\n",
    "    fn=search_interface,\n",
    "    inputs=[\n",
    "        gr.Textbox(lines=2, placeholder=\"Enter your search query here...\"),\n",
    "        gr.Radio(choices=['TF-IDF', 'Doc2Vec', 'MiniLM'], label=\"Choose the model\")\n",
    "    ],\n",
    "    outputs=\"markdown\",\n",
    "    title=\"Job Postings Semantic Search\",\n",
    "    description=\"Search for job postings using different embedding models: TF-IDF, Doc2Vec, or MiniLM.\"\n",
    ")\n",
    "\n",
    "iface.launch()"
   ]
  },
  {
   "cell_type": "code",
   "execution_count": null,
   "metadata": {},
   "outputs": [],
   "source": []
  }
 ],
 "metadata": {
  "kernelspec": {
   "display_name": "Python 3",
   "language": "python",
   "name": "python3"
  },
  "language_info": {
   "codemirror_mode": {
    "name": "ipython",
    "version": 3
   },
   "file_extension": ".py",
   "mimetype": "text/x-python",
   "name": "python",
   "nbconvert_exporter": "python",
   "pygments_lexer": "ipython3",
   "version": "3.11.4"
  }
 },
 "nbformat": 4,
 "nbformat_minor": 2
}
