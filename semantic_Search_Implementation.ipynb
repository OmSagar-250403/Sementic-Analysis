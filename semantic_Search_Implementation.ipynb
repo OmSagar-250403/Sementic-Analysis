{
 "cells": [
  {
   "cell_type": "markdown",
   "metadata": {},
   "source": [
    "# Importing Required Packages"
   ]
  },
  {
   "cell_type": "code",
   "execution_count": 38,
   "metadata": {},
   "outputs": [],
   "source": [
    "import re\n",
    "from tqdm import tqdm\n",
    "from nltk.corpus import stopwords\n",
    "import numpy as np\n",
    "import pandas as pd\n",
    "import matplotlib.pyplot as plt\n",
    "from sklearn.feature_extraction.text import TfidfVectorizer\n",
    "from sklearn.metrics.pairwise import cosine_similarity\n",
    "import tensorflow as tf\n",
    "from transformers import AutoTokenizer, TFAutoModel"
   ]
  },
  {
   "cell_type": "markdown",
   "metadata": {},
   "source": [
    "# Loading the Dataset"
   ]
  },
  {
   "cell_type": "code",
   "execution_count": 39,
   "metadata": {},
   "outputs": [],
   "source": [
    "train_df = pd.read_csv(\"E:/Codes/Python/Project/train.csv\")\n",
    "test_df = pd.read_csv(\"E:/Codes/Python/Project/test.csv\")\n",
    "\n",
    "df = pd.concat([train_df, test_df])"
   ]
  },
  {
   "cell_type": "code",
   "execution_count": 40,
   "metadata": {},
   "outputs": [
    {
     "data": {
      "text/html": [
       "<div>\n",
       "<style scoped>\n",
       "    .dataframe tbody tr th:only-of-type {\n",
       "        vertical-align: middle;\n",
       "    }\n",
       "\n",
       "    .dataframe tbody tr th {\n",
       "        vertical-align: top;\n",
       "    }\n",
       "\n",
       "    .dataframe thead th {\n",
       "        text-align: right;\n",
       "    }\n",
       "</style>\n",
       "<table border=\"1\" class=\"dataframe\">\n",
       "  <thead>\n",
       "    <tr style=\"text-align: right;\">\n",
       "      <th></th>\n",
       "      <th>title</th>\n",
       "      <th>company</th>\n",
       "      <th>location</th>\n",
       "      <th>date</th>\n",
       "      <th>description</th>\n",
       "    </tr>\n",
       "  </thead>\n",
       "  <tbody>\n",
       "    <tr>\n",
       "      <th>0</th>\n",
       "      <td>Business Analyst</td>\n",
       "      <td>Apollo Hospitals</td>\n",
       "      <td>Chennai, Tamil Nadu, India</td>\n",
       "      <td>1 week ago</td>\n",
       "      <td>Actively Hiring</td>\n",
       "    </tr>\n",
       "    <tr>\n",
       "      <th>1</th>\n",
       "      <td>IT Service Desk (Desktop Support)</td>\n",
       "      <td>Wipro</td>\n",
       "      <td>Hyderabad, Telangana, India</td>\n",
       "      <td>2 weeks ago</td>\n",
       "      <td>Actively Hiring</td>\n",
       "    </tr>\n",
       "    <tr>\n",
       "      <th>2</th>\n",
       "      <td>Information Technology Manager</td>\n",
       "      <td>Accor</td>\n",
       "      <td>Mumbai Metropolitan Region</td>\n",
       "      <td>4 weeks ago</td>\n",
       "      <td>Actively Hiring</td>\n",
       "    </tr>\n",
       "    <tr>\n",
       "      <th>3</th>\n",
       "      <td>Technical Support Engineer</td>\n",
       "      <td>LTIMindtree</td>\n",
       "      <td>Hyderabad, Telangana, India</td>\n",
       "      <td>2 weeks ago</td>\n",
       "      <td>Actively Hiring</td>\n",
       "    </tr>\n",
       "    <tr>\n",
       "      <th>4</th>\n",
       "      <td>HRMS Analyst</td>\n",
       "      <td>airtel</td>\n",
       "      <td>Gurugram, Haryana, India</td>\n",
       "      <td>3 weeks ago</td>\n",
       "      <td>Actively Hiring</td>\n",
       "    </tr>\n",
       "  </tbody>\n",
       "</table>\n",
       "</div>"
      ],
      "text/plain": [
       "                               title           company  \\\n",
       "0                   Business Analyst  Apollo Hospitals   \n",
       "1  IT Service Desk (Desktop Support)             Wipro   \n",
       "2     Information Technology Manager             Accor   \n",
       "3         Technical Support Engineer       LTIMindtree   \n",
       "4                       HRMS Analyst            airtel   \n",
       "\n",
       "                      location         date      description  \n",
       "0   Chennai, Tamil Nadu, India   1 week ago  Actively Hiring  \n",
       "1  Hyderabad, Telangana, India  2 weeks ago  Actively Hiring  \n",
       "2   Mumbai Metropolitan Region  4 weeks ago  Actively Hiring  \n",
       "3  Hyderabad, Telangana, India  2 weeks ago  Actively Hiring  \n",
       "4     Gurugram, Haryana, India  3 weeks ago  Actively Hiring  "
      ]
     },
     "execution_count": 40,
     "metadata": {},
     "output_type": "execute_result"
    }
   ],
   "source": [
    "df.head()"
   ]
  },
  {
   "cell_type": "code",
   "execution_count": 41,
   "metadata": {},
   "outputs": [
    {
     "name": "stdout",
     "output_type": "stream",
     "text": [
      "<class 'pandas.core.frame.DataFrame'>\n",
      "Index: 336 entries, 0 to 36\n",
      "Data columns (total 5 columns):\n",
      " #   Column       Non-Null Count  Dtype \n",
      "---  ------       --------------  ----- \n",
      " 0   title        336 non-null    object\n",
      " 1   company      336 non-null    object\n",
      " 2   location     336 non-null    object\n",
      " 3   date         336 non-null    object\n",
      " 4   description  336 non-null    object\n",
      "dtypes: object(5)\n",
      "memory usage: 15.8+ KB\n"
     ]
    }
   ],
   "source": [
    "df.info()"
   ]
  },
  {
   "cell_type": "markdown",
   "metadata": {},
   "source": [
    "# Preparing the Dataset"
   ]
  },
  {
   "cell_type": "markdown",
   "metadata": {},
   "source": [
    "**# Normalize Columns**"
   ]
  },
  {
   "cell_type": "code",
   "execution_count": 42,
   "metadata": {},
   "outputs": [
    {
     "data": {
      "text/html": [
       "<div>\n",
       "<style scoped>\n",
       "    .dataframe tbody tr th:only-of-type {\n",
       "        vertical-align: middle;\n",
       "    }\n",
       "\n",
       "    .dataframe tbody tr th {\n",
       "        vertical-align: top;\n",
       "    }\n",
       "\n",
       "    .dataframe thead th {\n",
       "        text-align: right;\n",
       "    }\n",
       "</style>\n",
       "<table border=\"1\" class=\"dataframe\">\n",
       "  <thead>\n",
       "    <tr style=\"text-align: right;\">\n",
       "      <th></th>\n",
       "      <th>title</th>\n",
       "      <th>company</th>\n",
       "      <th>location</th>\n",
       "      <th>date</th>\n",
       "      <th>description</th>\n",
       "    </tr>\n",
       "  </thead>\n",
       "  <tbody>\n",
       "    <tr>\n",
       "      <th>0</th>\n",
       "      <td>Business Analyst</td>\n",
       "      <td>Apollo Hospitals</td>\n",
       "      <td>Chennai, Tamil Nadu, India</td>\n",
       "      <td>1 week ago</td>\n",
       "      <td>Actively Hiring</td>\n",
       "    </tr>\n",
       "    <tr>\n",
       "      <th>1</th>\n",
       "      <td>IT Service Desk (Desktop Support)</td>\n",
       "      <td>Wipro</td>\n",
       "      <td>Hyderabad, Telangana, India</td>\n",
       "      <td>2 weeks ago</td>\n",
       "      <td>Actively Hiring</td>\n",
       "    </tr>\n",
       "    <tr>\n",
       "      <th>2</th>\n",
       "      <td>Information Technology Manager</td>\n",
       "      <td>Accor</td>\n",
       "      <td>Mumbai Metropolitan Region</td>\n",
       "      <td>4 weeks ago</td>\n",
       "      <td>Actively Hiring</td>\n",
       "    </tr>\n",
       "    <tr>\n",
       "      <th>3</th>\n",
       "      <td>Technical Support Engineer</td>\n",
       "      <td>LTIMindtree</td>\n",
       "      <td>Hyderabad, Telangana, India</td>\n",
       "      <td>2 weeks ago</td>\n",
       "      <td>Actively Hiring</td>\n",
       "    </tr>\n",
       "    <tr>\n",
       "      <th>4</th>\n",
       "      <td>HRMS Analyst</td>\n",
       "      <td>airtel</td>\n",
       "      <td>Gurugram, Haryana, India</td>\n",
       "      <td>3 weeks ago</td>\n",
       "      <td>Actively Hiring</td>\n",
       "    </tr>\n",
       "  </tbody>\n",
       "</table>\n",
       "</div>"
      ],
      "text/plain": [
       "                               title           company  \\\n",
       "0                   Business Analyst  Apollo Hospitals   \n",
       "1  IT Service Desk (Desktop Support)             Wipro   \n",
       "2     Information Technology Manager             Accor   \n",
       "3         Technical Support Engineer       LTIMindtree   \n",
       "4                       HRMS Analyst            airtel   \n",
       "\n",
       "                      location         date      description  \n",
       "0   Chennai, Tamil Nadu, India   1 week ago  Actively Hiring  \n",
       "1  Hyderabad, Telangana, India  2 weeks ago  Actively Hiring  \n",
       "2   Mumbai Metropolitan Region  4 weeks ago  Actively Hiring  \n",
       "3  Hyderabad, Telangana, India  2 weeks ago  Actively Hiring  \n",
       "4     Gurugram, Haryana, India  3 weeks ago  Actively Hiring  "
      ]
     },
     "execution_count": 42,
     "metadata": {},
     "output_type": "execute_result"
    }
   ],
   "source": [
    "df.columns = [col.lower() for col in df.columns]\n",
    "df.head()"
   ]
  },
  {
   "cell_type": "markdown",
   "metadata": {},
   "source": [
    "**# Create `text` Column by Compining `title` and `company`**"
   ]
  },
  {
   "cell_type": "code",
   "execution_count": 43,
   "metadata": {},
   "outputs": [],
   "source": [
    "df[\"text\"] = df[\"title\"] + \"_\" + df[\"company\"]"
   ]
  },
  {
   "cell_type": "code",
   "execution_count": 44,
   "metadata": {},
   "outputs": [
    {
     "data": {
      "text/html": [
       "<div>\n",
       "<style scoped>\n",
       "    .dataframe tbody tr th:only-of-type {\n",
       "        vertical-align: middle;\n",
       "    }\n",
       "\n",
       "    .dataframe tbody tr th {\n",
       "        vertical-align: top;\n",
       "    }\n",
       "\n",
       "    .dataframe thead th {\n",
       "        text-align: right;\n",
       "    }\n",
       "</style>\n",
       "<table border=\"1\" class=\"dataframe\">\n",
       "  <thead>\n",
       "    <tr style=\"text-align: right;\">\n",
       "      <th></th>\n",
       "      <th>title</th>\n",
       "      <th>company</th>\n",
       "      <th>location</th>\n",
       "      <th>date</th>\n",
       "      <th>description</th>\n",
       "      <th>text</th>\n",
       "    </tr>\n",
       "  </thead>\n",
       "  <tbody>\n",
       "    <tr>\n",
       "      <th>0</th>\n",
       "      <td>Business Analyst</td>\n",
       "      <td>Apollo Hospitals</td>\n",
       "      <td>Chennai, Tamil Nadu, India</td>\n",
       "      <td>1 week ago</td>\n",
       "      <td>Actively Hiring</td>\n",
       "      <td>Business Analyst_Apollo Hospitals</td>\n",
       "    </tr>\n",
       "    <tr>\n",
       "      <th>1</th>\n",
       "      <td>IT Service Desk (Desktop Support)</td>\n",
       "      <td>Wipro</td>\n",
       "      <td>Hyderabad, Telangana, India</td>\n",
       "      <td>2 weeks ago</td>\n",
       "      <td>Actively Hiring</td>\n",
       "      <td>IT Service Desk (Desktop Support)_Wipro</td>\n",
       "    </tr>\n",
       "    <tr>\n",
       "      <th>2</th>\n",
       "      <td>Information Technology Manager</td>\n",
       "      <td>Accor</td>\n",
       "      <td>Mumbai Metropolitan Region</td>\n",
       "      <td>4 weeks ago</td>\n",
       "      <td>Actively Hiring</td>\n",
       "      <td>Information Technology Manager_Accor</td>\n",
       "    </tr>\n",
       "    <tr>\n",
       "      <th>3</th>\n",
       "      <td>Technical Support Engineer</td>\n",
       "      <td>LTIMindtree</td>\n",
       "      <td>Hyderabad, Telangana, India</td>\n",
       "      <td>2 weeks ago</td>\n",
       "      <td>Actively Hiring</td>\n",
       "      <td>Technical Support Engineer_LTIMindtree</td>\n",
       "    </tr>\n",
       "    <tr>\n",
       "      <th>4</th>\n",
       "      <td>HRMS Analyst</td>\n",
       "      <td>airtel</td>\n",
       "      <td>Gurugram, Haryana, India</td>\n",
       "      <td>3 weeks ago</td>\n",
       "      <td>Actively Hiring</td>\n",
       "      <td>HRMS Analyst_airtel</td>\n",
       "    </tr>\n",
       "  </tbody>\n",
       "</table>\n",
       "</div>"
      ],
      "text/plain": [
       "                               title           company  \\\n",
       "0                   Business Analyst  Apollo Hospitals   \n",
       "1  IT Service Desk (Desktop Support)             Wipro   \n",
       "2     Information Technology Manager             Accor   \n",
       "3         Technical Support Engineer       LTIMindtree   \n",
       "4                       HRMS Analyst            airtel   \n",
       "\n",
       "                      location         date      description  \\\n",
       "0   Chennai, Tamil Nadu, India   1 week ago  Actively Hiring   \n",
       "1  Hyderabad, Telangana, India  2 weeks ago  Actively Hiring   \n",
       "2   Mumbai Metropolitan Region  4 weeks ago  Actively Hiring   \n",
       "3  Hyderabad, Telangana, India  2 weeks ago  Actively Hiring   \n",
       "4     Gurugram, Haryana, India  3 weeks ago  Actively Hiring   \n",
       "\n",
       "                                      text  \n",
       "0        Business Analyst_Apollo Hospitals  \n",
       "1  IT Service Desk (Desktop Support)_Wipro  \n",
       "2     Information Technology Manager_Accor  \n",
       "3   Technical Support Engineer_LTIMindtree  \n",
       "4                      HRMS Analyst_airtel  "
      ]
     },
     "execution_count": 44,
     "metadata": {},
     "output_type": "execute_result"
    }
   ],
   "source": [
    "df.head()"
   ]
  },
  {
   "cell_type": "markdown",
   "metadata": {},
   "source": [
    "**# Select the Relevant Features Only**"
   ]
  },
  {
   "cell_type": "code",
   "execution_count": 45,
   "metadata": {},
   "outputs": [],
   "source": [
    "df = df[[\"text\", \"location\"]]"
   ]
  },
  {
   "cell_type": "code",
   "execution_count": 46,
   "metadata": {},
   "outputs": [
    {
     "data": {
      "text/html": [
       "<div>\n",
       "<style scoped>\n",
       "    .dataframe tbody tr th:only-of-type {\n",
       "        vertical-align: middle;\n",
       "    }\n",
       "\n",
       "    .dataframe tbody tr th {\n",
       "        vertical-align: top;\n",
       "    }\n",
       "\n",
       "    .dataframe thead th {\n",
       "        text-align: right;\n",
       "    }\n",
       "</style>\n",
       "<table border=\"1\" class=\"dataframe\">\n",
       "  <thead>\n",
       "    <tr style=\"text-align: right;\">\n",
       "      <th></th>\n",
       "      <th>text</th>\n",
       "      <th>location</th>\n",
       "    </tr>\n",
       "  </thead>\n",
       "  <tbody>\n",
       "    <tr>\n",
       "      <th>0</th>\n",
       "      <td>Business Analyst_Apollo Hospitals</td>\n",
       "      <td>Chennai, Tamil Nadu, India</td>\n",
       "    </tr>\n",
       "    <tr>\n",
       "      <th>1</th>\n",
       "      <td>IT Service Desk (Desktop Support)_Wipro</td>\n",
       "      <td>Hyderabad, Telangana, India</td>\n",
       "    </tr>\n",
       "    <tr>\n",
       "      <th>2</th>\n",
       "      <td>Information Technology Manager_Accor</td>\n",
       "      <td>Mumbai Metropolitan Region</td>\n",
       "    </tr>\n",
       "    <tr>\n",
       "      <th>3</th>\n",
       "      <td>Technical Support Engineer_LTIMindtree</td>\n",
       "      <td>Hyderabad, Telangana, India</td>\n",
       "    </tr>\n",
       "    <tr>\n",
       "      <th>4</th>\n",
       "      <td>HRMS Analyst_airtel</td>\n",
       "      <td>Gurugram, Haryana, India</td>\n",
       "    </tr>\n",
       "  </tbody>\n",
       "</table>\n",
       "</div>"
      ],
      "text/plain": [
       "                                      text                     location\n",
       "0        Business Analyst_Apollo Hospitals   Chennai, Tamil Nadu, India\n",
       "1  IT Service Desk (Desktop Support)_Wipro  Hyderabad, Telangana, India\n",
       "2     Information Technology Manager_Accor   Mumbai Metropolitan Region\n",
       "3   Technical Support Engineer_LTIMindtree  Hyderabad, Telangana, India\n",
       "4                      HRMS Analyst_airtel     Gurugram, Haryana, India"
      ]
     },
     "execution_count": 46,
     "metadata": {},
     "output_type": "execute_result"
    }
   ],
   "source": [
    "df.head()"
   ]
  },
  {
   "cell_type": "code",
   "execution_count": 47,
   "metadata": {},
   "outputs": [],
   "source": [
    "df[\"category\"] = \"Information Technology\""
   ]
  },
  {
   "cell_type": "code",
   "execution_count": 48,
   "metadata": {},
   "outputs": [
    {
     "data": {
      "text/html": [
       "<div>\n",
       "<style scoped>\n",
       "    .dataframe tbody tr th:only-of-type {\n",
       "        vertical-align: middle;\n",
       "    }\n",
       "\n",
       "    .dataframe tbody tr th {\n",
       "        vertical-align: top;\n",
       "    }\n",
       "\n",
       "    .dataframe thead th {\n",
       "        text-align: right;\n",
       "    }\n",
       "</style>\n",
       "<table border=\"1\" class=\"dataframe\">\n",
       "  <thead>\n",
       "    <tr style=\"text-align: right;\">\n",
       "      <th></th>\n",
       "      <th>text</th>\n",
       "      <th>location</th>\n",
       "      <th>category</th>\n",
       "    </tr>\n",
       "  </thead>\n",
       "  <tbody>\n",
       "    <tr>\n",
       "      <th>0</th>\n",
       "      <td>Business Analyst_Apollo Hospitals</td>\n",
       "      <td>Chennai, Tamil Nadu, India</td>\n",
       "      <td>Information Technology</td>\n",
       "    </tr>\n",
       "    <tr>\n",
       "      <th>1</th>\n",
       "      <td>IT Service Desk (Desktop Support)_Wipro</td>\n",
       "      <td>Hyderabad, Telangana, India</td>\n",
       "      <td>Information Technology</td>\n",
       "    </tr>\n",
       "    <tr>\n",
       "      <th>2</th>\n",
       "      <td>Information Technology Manager_Accor</td>\n",
       "      <td>Mumbai Metropolitan Region</td>\n",
       "      <td>Information Technology</td>\n",
       "    </tr>\n",
       "    <tr>\n",
       "      <th>3</th>\n",
       "      <td>Technical Support Engineer_LTIMindtree</td>\n",
       "      <td>Hyderabad, Telangana, India</td>\n",
       "      <td>Information Technology</td>\n",
       "    </tr>\n",
       "    <tr>\n",
       "      <th>4</th>\n",
       "      <td>HRMS Analyst_airtel</td>\n",
       "      <td>Gurugram, Haryana, India</td>\n",
       "      <td>Information Technology</td>\n",
       "    </tr>\n",
       "  </tbody>\n",
       "</table>\n",
       "</div>"
      ],
      "text/plain": [
       "                                      text                     location  \\\n",
       "0        Business Analyst_Apollo Hospitals   Chennai, Tamil Nadu, India   \n",
       "1  IT Service Desk (Desktop Support)_Wipro  Hyderabad, Telangana, India   \n",
       "2     Information Technology Manager_Accor   Mumbai Metropolitan Region   \n",
       "3   Technical Support Engineer_LTIMindtree  Hyderabad, Telangana, India   \n",
       "4                      HRMS Analyst_airtel     Gurugram, Haryana, India   \n",
       "\n",
       "                 category  \n",
       "0  Information Technology  \n",
       "1  Information Technology  \n",
       "2  Information Technology  \n",
       "3  Information Technology  \n",
       "4  Information Technology  "
      ]
     },
     "execution_count": 48,
     "metadata": {},
     "output_type": "execute_result"
    }
   ],
   "source": [
    "df.head()"
   ]
  },
  {
   "cell_type": "markdown",
   "metadata": {},
   "source": [
    "# Preprocessing the Dataset"
   ]
  },
  {
   "cell_type": "code",
   "execution_count": 49,
   "metadata": {},
   "outputs": [],
   "source": [
    "def clean_text(text):\n",
    "\n",
    "    text = text.lower()\n",
    "    text = re.sub(\"[^a-zA-Z0-9]\", \" \", text)\n",
    "    text = text.split()\n",
    "    text = [word for word in text if word not in stopwords.words(\"english\")]\n",
    "\n",
    "    return \" \".join(text)\n",
    "\n",
    "\n",
    "def clean_df_text(texts):\n",
    "    \n",
    "    all_cleaned_texts = []\n",
    "\n",
    "    for text in tqdm(texts):\n",
    "        cleaned_text = clean_text(text)\n",
    "        all_cleaned_texts.append(cleaned_text)\n",
    "\n",
    "    return all_cleaned_texts"
   ]
  },
  {
   "cell_type": "code",
   "execution_count": 50,
   "metadata": {},
   "outputs": [
    {
     "name": "stdout",
     "output_type": "stream",
     "text": [
      "{'who', 'your', 'him', 'there', 'for', 'not', 'so', 'me', 'through', 'his', \"needn't\", \"shan't\", 'while', 'itself', 'up', 'why', 'down', 'don', 'some', \"haven't\", \"mightn't\", 'yourself', 'most', 'shan', 'mustn', 'them', 'couldn', 'this', 'nor', 'been', \"wasn't\", 'that', 'by', 'wouldn', 'those', 'all', 'are', 'or', 'because', 'you', 'd', 'y', \"hasn't\", 'her', 'as', 'hadn', \"that'll\", 'than', \"aren't\", 'here', \"shouldn't\", 'a', 'more', 'under', \"don't\", 'out', 'does', 'own', 'once', 'was', 'they', 'these', 'should', 'where', \"won't\", \"hadn't\", 'when', 'myself', 'yours', 'very', 'our', 'too', 'on', 'few', 'after', 'herself', 'if', 'from', 'off', 'both', 'whom', 'theirs', \"wouldn't\", 'each', 'any', 'he', 'will', 'now', 'again', 'mightn', 'i', 'no', 'ours', 'in', 't', 'such', 'with', 'above', 'am', 'below', 'ain', 'it', 'we', \"you'll\", 'having', 'the', 'themselves', 'about', 'shouldn', 'can', 'is', 'into', 'at', 'hasn', 'until', \"you're\", 'and', 'didn', 'how', 'wasn', 'isn', 'won', 'only', 'what', 'other', 'has', 'then', 'between', 'being', 'be', \"should've\", 'doing', 've', \"she's\", \"couldn't\", \"you'd\", \"you've\", \"doesn't\", 'ma', 'm', 'o', \"didn't\", 'ourselves', 'over', 'of', 're', 'do', 'had', 'an', 'doesn', 'needn', 'their', 'which', 'did', 'my', 'to', 'same', 'haven', 'have', 'but', 'weren', 's', 'were', 'himself', \"mustn't\", 'its', 'll', 'aren', \"weren't\", 'against', 'yourselves', 'just', \"isn't\", 'hers', 'she', \"it's\", 'during', 'further', 'before'}\n"
     ]
    },
    {
     "name": "stderr",
     "output_type": "stream",
     "text": [
      "[nltk_data] Downloading package stopwords to\n",
      "[nltk_data]     C:\\Users\\omsag\\AppData\\Roaming\\nltk_data...\n",
      "[nltk_data]   Package stopwords is already up-to-date!\n"
     ]
    }
   ],
   "source": [
    "import nltk\n",
    "\n",
    "# Download the stopwords resource\n",
    "nltk.download('stopwords')\n",
    "\n",
    "# Now you can import and use the stopwords\n",
    "from nltk.corpus import stopwords\n",
    "\n",
    "# Example usage\n",
    "stop_words = set(stopwords.words('english'))\n",
    "print(stop_words)\n"
   ]
  },
  {
   "cell_type": "code",
   "execution_count": 51,
   "metadata": {},
   "outputs": [
    {
     "name": "stderr",
     "output_type": "stream",
     "text": [
      "100%|██████████| 336/336 [00:00<00:00, 821.96it/s]\n"
     ]
    }
   ],
   "source": [
    "cleaned_texts = clean_df_text(df[\"text\"])\n",
    "df[\"clean_text\"] = cleaned_texts"
   ]
  },
  {
   "cell_type": "code",
   "execution_count": 52,
   "metadata": {},
   "outputs": [
    {
     "data": {
      "text/html": [
       "<div>\n",
       "<style scoped>\n",
       "    .dataframe tbody tr th:only-of-type {\n",
       "        vertical-align: middle;\n",
       "    }\n",
       "\n",
       "    .dataframe tbody tr th {\n",
       "        vertical-align: top;\n",
       "    }\n",
       "\n",
       "    .dataframe thead th {\n",
       "        text-align: right;\n",
       "    }\n",
       "</style>\n",
       "<table border=\"1\" class=\"dataframe\">\n",
       "  <thead>\n",
       "    <tr style=\"text-align: right;\">\n",
       "      <th></th>\n",
       "      <th>text</th>\n",
       "      <th>location</th>\n",
       "      <th>category</th>\n",
       "      <th>clean_text</th>\n",
       "    </tr>\n",
       "  </thead>\n",
       "  <tbody>\n",
       "    <tr>\n",
       "      <th>0</th>\n",
       "      <td>Business Analyst_Apollo Hospitals</td>\n",
       "      <td>Chennai, Tamil Nadu, India</td>\n",
       "      <td>Information Technology</td>\n",
       "      <td>business analyst apollo hospitals</td>\n",
       "    </tr>\n",
       "    <tr>\n",
       "      <th>1</th>\n",
       "      <td>IT Service Desk (Desktop Support)_Wipro</td>\n",
       "      <td>Hyderabad, Telangana, India</td>\n",
       "      <td>Information Technology</td>\n",
       "      <td>service desk desktop support wipro</td>\n",
       "    </tr>\n",
       "    <tr>\n",
       "      <th>2</th>\n",
       "      <td>Information Technology Manager_Accor</td>\n",
       "      <td>Mumbai Metropolitan Region</td>\n",
       "      <td>Information Technology</td>\n",
       "      <td>information technology manager accor</td>\n",
       "    </tr>\n",
       "    <tr>\n",
       "      <th>3</th>\n",
       "      <td>Technical Support Engineer_LTIMindtree</td>\n",
       "      <td>Hyderabad, Telangana, India</td>\n",
       "      <td>Information Technology</td>\n",
       "      <td>technical support engineer ltimindtree</td>\n",
       "    </tr>\n",
       "    <tr>\n",
       "      <th>4</th>\n",
       "      <td>HRMS Analyst_airtel</td>\n",
       "      <td>Gurugram, Haryana, India</td>\n",
       "      <td>Information Technology</td>\n",
       "      <td>hrms analyst airtel</td>\n",
       "    </tr>\n",
       "  </tbody>\n",
       "</table>\n",
       "</div>"
      ],
      "text/plain": [
       "                                      text                     location  \\\n",
       "0        Business Analyst_Apollo Hospitals   Chennai, Tamil Nadu, India   \n",
       "1  IT Service Desk (Desktop Support)_Wipro  Hyderabad, Telangana, India   \n",
       "2     Information Technology Manager_Accor   Mumbai Metropolitan Region   \n",
       "3   Technical Support Engineer_LTIMindtree  Hyderabad, Telangana, India   \n",
       "4                      HRMS Analyst_airtel     Gurugram, Haryana, India   \n",
       "\n",
       "                 category                              clean_text  \n",
       "0  Information Technology       business analyst apollo hospitals  \n",
       "1  Information Technology      service desk desktop support wipro  \n",
       "2  Information Technology    information technology manager accor  \n",
       "3  Information Technology  technical support engineer ltimindtree  \n",
       "4  Information Technology                     hrms analyst airtel  "
      ]
     },
     "execution_count": 52,
     "metadata": {},
     "output_type": "execute_result"
    }
   ],
   "source": [
    "df.head()"
   ]
  },
  {
   "cell_type": "markdown",
   "metadata": {},
   "source": [
    "# 1. Native Search (TF-IDF)"
   ]
  },
  {
   "cell_type": "code",
   "execution_count": 53,
   "metadata": {},
   "outputs": [
    {
     "name": "stdout",
     "output_type": "stream",
     "text": [
      "(336, 365)\n"
     ]
    }
   ],
   "source": [
    "tf_idf_vectorizer = TfidfVectorizer(stop_words=\"english\")\n",
    "tf_idf_matrix = tf_idf_vectorizer.fit_transform(cleaned_texts)\n",
    "print(tf_idf_matrix.shape)"
   ]
  },
  {
   "cell_type": "code",
   "execution_count": 54,
   "metadata": {},
   "outputs": [],
   "source": [
    "def semantic_search_tf_idf(query, tf_idf_matrix, tf_idf_vectorizer, top_n=5):\n",
    "    \"\"\"\n",
    "    Perform semantic search for the `query` and print the `top_n`\n",
    "    similar results the the given `query` based on TF-IDF technique.\n",
    "\n",
    "    Parameters\n",
    "    ----------\n",
    "    - query : str\n",
    "        A specific query that we need to return similar documents to it.\n",
    "\n",
    "    - tf_idf_matrix : np.sparse_array\n",
    "        A numpy array contains the tf_idf vectors for each sample in the\n",
    "        dataset.\n",
    "    \n",
    "    - tf_idf_vectorizer : keras.TfidfVectorizer\n",
    "        A TfidfVectroizer to be able to vectorize the given `query`.\n",
    "    \n",
    "    - top_n : int, default=5\n",
    "        An integer value indicated the number of returned similar documents.\n",
    "    \"\"\"\n",
    "\n",
    "    cleaned_query = clean_text(query)\n",
    "    query_vector = tf_idf_vectorizer.transform([cleaned_query])\n",
    "\n",
    "    cosine_similarities = cosine_similarity(query_vector, tf_idf_matrix).flatten()\n",
    "    related_docs_indices = cosine_similarities.argsort()[:-top_n-1:-1]\n",
    "    realted_doc_scores = sorted(cosine_similarities, reverse=True)[:top_n]\n",
    "\n",
    "    # Display the top related documents\n",
    "    print(f\"Top {top_n} Results for Query: '{query}'\")\n",
    "    for i, idx in enumerate(related_docs_indices):\n",
    "        print(f\"{i + 1}. Category: {df.iloc[idx]['category']}\\n\")\n",
    "        print(f\"   Text: {df.iloc[idx]['clean_text']}\\n\")\n",
    "        print(f\"   Similarity: {realted_doc_scores[i]:.4f}\")\n",
    "        print(\"=\"*50)"
   ]
  },
  {
   "cell_type": "markdown",
   "metadata": {},
   "source": [
    "### Testing on a Random Query from the Dataset"
   ]
  },
  {
   "cell_type": "code",
   "execution_count": 55,
   "metadata": {},
   "outputs": [
    {
     "name": "stdout",
     "output_type": "stream",
     "text": [
      "Query of index: 58: \n",
      "helpdesk analyst sprinklr\n",
      "\n",
      "Category of index: 58: \n",
      "Information Technology\n"
     ]
    }
   ],
   "source": [
    "random_index = np.random.randint(0, len(df))\n",
    "query = df[\"clean_text\"].iloc[random_index]\n",
    "category = df[\"category\"].iloc[random_index]\n",
    "\n",
    "print(f\"Query of index: {random_index}: \")\n",
    "print(query)\n",
    "print(f\"\\nCategory of index: {random_index}: \")\n",
    "print(category)"
   ]
  },
  {
   "cell_type": "markdown",
   "metadata": {},
   "source": [
    "### Perform semantic search using TF-IDF"
   ]
  },
  {
   "cell_type": "code",
   "execution_count": 56,
   "metadata": {},
   "outputs": [
    {
     "name": "stdout",
     "output_type": "stream",
     "text": [
      "Top 5 Results for Query: 'helpdesk analyst sprinklr'\n",
      "1. Category: Information Technology\n",
      "\n",
      "   Text: helpdesk analyst sprinklr\n",
      "\n",
      "   Similarity: 1.0000\n",
      "==================================================\n",
      "2. Category: Information Technology\n",
      "\n",
      "   Text: helpdesk analyst sprinklr\n",
      "\n",
      "   Similarity: 1.0000\n",
      "==================================================\n",
      "3. Category: Information Technology\n",
      "\n",
      "   Text: helpdesk analyst sprinklr\n",
      "\n",
      "   Similarity: 1.0000\n",
      "==================================================\n",
      "4. Category: Information Technology\n",
      "\n",
      "   Text: helpdesk analyst us shift sprinklr\n",
      "\n",
      "   Similarity: 0.7848\n",
      "==================================================\n",
      "5. Category: Information Technology\n",
      "\n",
      "   Text: helpdesk analyst toast\n",
      "\n",
      "   Similarity: 0.5071\n",
      "==================================================\n"
     ]
    }
   ],
   "source": [
    "semantic_search_tf_idf(query, tf_idf_matrix, tf_idf_vectorizer)"
   ]
  },
  {
   "cell_type": "markdown",
   "metadata": {},
   "source": [
    "# 2. Sementic search (Doc2vec model)"
   ]
  },
  {
   "cell_type": "markdown",
   "metadata": {},
   "source": [
    "### Creating the  model"
   ]
  },
  {
   "cell_type": "code",
   "execution_count": 57,
   "metadata": {},
   "outputs": [],
   "source": [
    "from gensim.models.doc2vec import Doc2Vec, TaggedDocument\n",
    "\n",
    "# tokenize that data to be in the form that is expected by `Doc2Vec` model.\n",
    "tokenized_data = [text.split() for text in cleaned_texts]\n",
    "#print(tokenized_data)\n",
    "# Tag each document with an index\n",
    "tagged_data = [TaggedDocument(words=words, tags=[str(i)]) for i, words in enumerate(tokenized_data)]\n",
    "#print(tagged_data)\n",
    "# Initialize the Doc2Vec model\n",
    "doc2vec_model = Doc2Vec(vector_size=300, window=5, min_count=1, workers=4, epochs=20)\n",
    "# Build the vocabulary\n",
    "doc2vec_model.build_vocab(tagged_data)"
   ]
  },
  {
   "cell_type": "markdown",
   "metadata": {},
   "source": [
    "### Training the `Doc2Vec` Model on the Dataset"
   ]
  },
  {
   "cell_type": "code",
   "execution_count": 58,
   "metadata": {},
   "outputs": [
    {
     "name": "stderr",
     "output_type": "stream",
     "text": [
      "100%|██████████| 336/336 [00:00<00:00, 40659.13it/s]\n"
     ]
    }
   ],
   "source": [
    "# Train the model\n",
    "doc2vec_model.train(tqdm(tagged_data), total_examples=doc2vec_model.corpus_count, epochs=doc2vec_model.epochs)"
   ]
  },
  {
   "cell_type": "code",
   "execution_count": 59,
   "metadata": {},
   "outputs": [
    {
     "name": "stderr",
     "output_type": "stream",
     "text": [
      "100%|██████████| 336/336 [00:00<00:00, 1566.05it/s]"
     ]
    },
    {
     "name": "stdout",
     "output_type": "stream",
     "text": [
      "documents_doc2vec_embeddings shape: (336, 300)\n"
     ]
    },
    {
     "name": "stderr",
     "output_type": "stream",
     "text": [
      "\n"
     ]
    }
   ],
   "source": [
    "# Get the embeddings for each document in dataframe\n",
    "documents_doc2vec_embeddings = np.array([doc2vec_model.infer_vector(words) for words in tqdm(tokenized_data)])\n",
    "print(f\"documents_doc2vec_embeddings shape: {documents_doc2vec_embeddings.shape}\")"
   ]
  },
  {
   "cell_type": "code",
   "execution_count": 60,
   "metadata": {},
   "outputs": [],
   "source": [
    "def semantic_search_doc2vec(query, documents_doc2vec_embeddings, model, top_n=5):\n",
    "    \"\"\"\n",
    "    Perform semantic search for the `query` and print the `top_n`\n",
    "    similar results the the given `query` based on Doc2Vec model.\n",
    "\n",
    "    Parameters\n",
    "    ----------\n",
    "    - query : str\n",
    "        A specific query that we need to return similar documents to it.\n",
    "    \n",
    "    - documents_doc2vec_embeddings : np.array\n",
    "        A numpy array contains the doc2vec embedding vectors for each\n",
    "        sample in the dataset.\n",
    "    \n",
    "    - model : gensim.Doc2Vec\n",
    "        A Doc2Vec model to be able to vectorize the given `query`.\n",
    "    \n",
    "    - top_n : int, default=5\n",
    "        An integer value indicated the number of returned similar documents.\n",
    "    \"\"\"\n",
    "    \n",
    "    # Clean the query\n",
    "    cleaned_query = clean_text(query)\n",
    "    # Put the query in format suitable for the `model`\n",
    "    query_words = cleaned_query.split()\n",
    "    # Get the embedding of the query\n",
    "    query_embedding = model.infer_vector(query_words)\n",
    "    # Calculate cosine similarities between the query and all vectors in the dataset\n",
    "    cosine_similarities = cosine_similarity([query_embedding], documents_doc2vec_embeddings)[0]\n",
    "    # Get the top_n similar documents to the query\n",
    "    related_docs_indices = np.argsort(cosine_similarities)[-top_n:][::-1]\n",
    "\n",
    "    # Display the top related documents\n",
    "    print(f\"Top {top_n} Results for Query: '{query}'\")\n",
    "    for i, idx in enumerate(related_docs_indices):\n",
    "        print(f\"{i + 1}. Category: {df.iloc[idx]['category']}\\n\")\n",
    "        print(f\"   Text: {df.iloc[idx]['clean_text']}\\n\")\n",
    "        print(f\"   Similarity: {cosine_similarities[idx]:.4f}\")\n",
    "        print(\"=\"*50)"
   ]
  },
  {
   "cell_type": "markdown",
   "metadata": {},
   "source": [
    "### Testing on Random Query"
   ]
  },
  {
   "cell_type": "code",
   "execution_count": 61,
   "metadata": {},
   "outputs": [
    {
     "name": "stdout",
     "output_type": "stream",
     "text": [
      "Top 5 Results for Query: 'helpdesk analyst sprinklr'\n",
      "1. Category: Information Technology\n",
      "\n",
      "   Text: helpdesk analyst sprinklr\n",
      "\n",
      "   Similarity: 0.9997\n",
      "==================================================\n",
      "2. Category: Information Technology\n",
      "\n",
      "   Text: helpdesk analyst sprinklr\n",
      "\n",
      "   Similarity: 0.9987\n",
      "==================================================\n",
      "3. Category: Information Technology\n",
      "\n",
      "   Text: helpdesk analyst sprinklr\n",
      "\n",
      "   Similarity: 0.9983\n",
      "==================================================\n",
      "4. Category: Information Technology\n",
      "\n",
      "   Text: technical customer support executive feasible technologies pvt ltd\n",
      "\n",
      "   Similarity: 0.9495\n",
      "==================================================\n",
      "5. Category: Information Technology\n",
      "\n",
      "   Text: deputy vice president los amp digital initiatives aye finance pvt ltd\n",
      "\n",
      "   Similarity: 0.9494\n",
      "==================================================\n"
     ]
    }
   ],
   "source": [
    "# Perform semantic search using Doc2Vec\n",
    "semantic_search_doc2vec(query, documents_doc2vec_embeddings, doc2vec_model)"
   ]
  },
  {
   "cell_type": "markdown",
   "metadata": {},
   "source": [
    "# 3. Semantic Search (Sentence Transformers)"
   ]
  },
  {
   "cell_type": "markdown",
   "metadata": {},
   "source": [
    "### Loading the Tokenizer and the Model"
   ]
  },
  {
   "cell_type": "code",
   "execution_count": 62,
   "metadata": {},
   "outputs": [
    {
     "name": "stderr",
     "output_type": "stream",
     "text": [
      "Some weights of the PyTorch model were not used when initializing the TF 2.0 model TFBertModel: ['embeddings.position_ids']\n",
      "- This IS expected if you are initializing TFBertModel from a PyTorch model trained on another task or with another architecture (e.g. initializing a TFBertForSequenceClassification model from a BertForPreTraining model).\n",
      "- This IS NOT expected if you are initializing TFBertModel from a PyTorch model that you expect to be exactly identical (e.g. initializing a TFBertForSequenceClassification model from a BertForSequenceClassification model).\n",
      "All the weights of TFBertModel were initialized from the PyTorch model.\n",
      "If your task is similar to the task the model of the checkpoint was trained on, you can already use TFBertModel for predictions without further training.\n"
     ]
    }
   ],
   "source": [
    "model_ckpt = \"sentence-transformers/all-MiniLM-L6-v2\"\n",
    "tokenizer = AutoTokenizer.from_pretrained(model_ckpt)\n",
    "model = TFAutoModel.from_pretrained(model_ckpt)"
   ]
  },
  {
   "cell_type": "markdown",
   "metadata": {},
   "source": [
    "### Getting the `input_ids` and `attention_mask` for each Sample in the Dataset"
   ]
  },
  {
   "cell_type": "code",
   "execution_count": 63,
   "metadata": {},
   "outputs": [],
   "source": [
    "encoded_documents = tokenizer(cleaned_texts, padding=True, truncation=True, return_tensors=\"tf\")"
   ]
  },
  {
   "cell_type": "code",
   "execution_count": 64,
   "metadata": {},
   "outputs": [
    {
     "data": {
      "text/plain": [
       "336"
      ]
     },
     "execution_count": 64,
     "metadata": {},
     "output_type": "execute_result"
    }
   ],
   "source": [
    "len(df)"
   ]
  },
  {
   "cell_type": "markdown",
   "metadata": {},
   "source": [
    "### Get the Embeddings for each Sample in the Dataset"
   ]
  },
  {
   "cell_type": "code",
   "execution_count": 65,
   "metadata": {},
   "outputs": [
    {
     "name": "stderr",
     "output_type": "stream",
     "text": [
      "7it [00:03,  2.21it/s]\n"
     ]
    }
   ],
   "source": [
    "documents_minilm_embeddings = np.zeros((len(df), 384))\n",
    "input_ids_batches = np.array_split(encoded_documents['input_ids'], 7)\n",
    "attention_mask_batches = np.array_split(encoded_documents['attention_mask'],7)\n",
    "batch_size = len(df) // 7  # 28\n",
    "\n",
    "for i, (input_ids_batch, attention_mask_batch) in tqdm(enumerate(zip(input_ids_batches, attention_mask_batches))):\n",
    "    batch_minilm_embeddings = model(input_ids=input_ids_batch, attention_mask=attention_mask_batch).pooler_output.numpy()\n",
    "    documents_minilm_embeddings[i*batch_size: (i+1)*batch_size] = batch_minilm_embeddings"
   ]
  },
  {
   "cell_type": "code",
   "execution_count": 66,
   "metadata": {},
   "outputs": [
    {
     "data": {
      "text/plain": [
       "array([[ 0.03833172,  0.07640348,  0.02877603, ...,  0.02431376,\n",
       "        -0.06942099,  0.02126502],\n",
       "       [-0.03977325, -0.01880461,  0.03382295, ...,  0.08374341,\n",
       "        -0.11527134,  0.09822368],\n",
       "       [-0.10245158,  0.00527675, -0.02660467, ...,  0.11720953,\n",
       "        -0.07027409, -0.03869587],\n",
       "       ...,\n",
       "       [-0.00231064,  0.05001451,  0.01118831, ...,  0.05239623,\n",
       "        -0.13432302,  0.01283636],\n",
       "       [ 0.02564914, -0.03749943, -0.03356422, ...,  0.00888257,\n",
       "        -0.11469318,  0.04511297],\n",
       "       [ 0.01573261, -0.0330876 , -0.06973363, ...,  0.01616799,\n",
       "        -0.13843822,  0.02233385]])"
      ]
     },
     "execution_count": 66,
     "metadata": {},
     "output_type": "execute_result"
    }
   ],
   "source": [
    "documents_minilm_embeddings"
   ]
  },
  {
   "cell_type": "code",
   "execution_count": 67,
   "metadata": {},
   "outputs": [],
   "source": [
    "def semantic_search_minilm(query, documents_minilm_embeddings, tokenizer, model, top_n=5):\n",
    "    \"\"\"\n",
    "    Perform semantic search for the `query` and print the `top_n`\n",
    "    similar results the the given `query` based on MiniLM model.\n",
    "\n",
    "    Parameters\n",
    "    ----------\n",
    "    - query : str\n",
    "        A specific query that we need to return similar documents to it.\n",
    "    \n",
    "    - documents_minilm_embeddings : np.array\n",
    "        A numpy array contains the MiniLM embedding vectors for each sample\n",
    "        in the dataset.\n",
    "    \n",
    "    - tokenizer : transformers.AutoTokenizer\n",
    "        A pretrained tokenizer associated with the `model` to tokenize the\n",
    "        `query`.\n",
    "    \n",
    "    - model : transformers.TFAutoModel\n",
    "        A pretrained transformer mode to be able to get the embedding of the\n",
    "        `query`.\n",
    "    \n",
    "    - top_n : int, default=5\n",
    "        An integer value indicated the number of returned similar documents.\n",
    "    \"\"\"\n",
    "    \n",
    "    # Clean the query\n",
    "    cleaned_query = clean_text(query)\n",
    "    # Tokenize the `cleaned_query` to get `input_ids` and `attention_mask` \n",
    "    encoded_input = tokenizer(cleaned_query, truncation=True, return_tensors=\"tf\")\n",
    "    # Get the query embedding by passing the encoded input to the model\n",
    "    query_embedding = model(**encoded_input).pooler_output.numpy()\n",
    "    # Calculate cosine similarities between the query and all other documents in the dataset\n",
    "    cosine_similarities = cosine_similarity(query_embedding, documents_minilm_embeddings)[0]\n",
    "    # Get the top_n similar documents to the query\n",
    "    related_docs_indices = np.argsort(cosine_similarities)[-top_n:][::-1]\n",
    "\n",
    "    # Display the top related documents\n",
    "    print(f\"Top {top_n} Results for Query: '{query}'\")\n",
    "    for i, idx in enumerate(related_docs_indices):\n",
    "        print(f\"{i + 1}. Category: {df.iloc[idx]['category']}\\n\")\n",
    "        print(f\"   Text: {df.iloc[idx]['clean_text']}\\n\")\n",
    "        print(f\"   Similarity: {cosine_similarities[idx]:.4f}\")\n",
    "        print(\"=\"*50)"
   ]
  },
  {
   "cell_type": "markdown",
   "metadata": {},
   "source": [
    "### Testing on Random Query"
   ]
  },
  {
   "cell_type": "code",
   "execution_count": 68,
   "metadata": {},
   "outputs": [
    {
     "name": "stdout",
     "output_type": "stream",
     "text": [
      "Top 5 Results for Query: 'helpdesk analyst sprinklr'\n",
      "1. Category: Information Technology\n",
      "\n",
      "   Text: helpdesk analyst sprinklr\n",
      "\n",
      "   Similarity: 1.0000\n",
      "==================================================\n",
      "2. Category: Information Technology\n",
      "\n",
      "   Text: helpdesk analyst sprinklr\n",
      "\n",
      "   Similarity: 1.0000\n",
      "==================================================\n",
      "3. Category: Information Technology\n",
      "\n",
      "   Text: helpdesk analyst sprinklr\n",
      "\n",
      "   Similarity: 1.0000\n",
      "==================================================\n",
      "4. Category: Information Technology\n",
      "\n",
      "   Text: helpdesk analyst us shift sprinklr\n",
      "\n",
      "   Similarity: 0.9369\n",
      "==================================================\n",
      "5. Category: Information Technology\n",
      "\n",
      "   Text: helpdesk analyst ncr atleos\n",
      "\n",
      "   Similarity: 0.8367\n",
      "==================================================\n"
     ]
    }
   ],
   "source": [
    "# Perform semantic search using MiniLM\n",
    "semantic_search_minilm(query, documents_minilm_embeddings, tokenizer, model)"
   ]
  },
  {
   "cell_type": "markdown",
   "metadata": {},
   "source": [
    "# 4. Testing all Techniques on an External Query"
   ]
  },
  {
   "cell_type": "code",
   "execution_count": 69,
   "metadata": {},
   "outputs": [],
   "source": [
    "query = \"Junior Information Technology Support Engineer XBTO\""
   ]
  },
  {
   "cell_type": "code",
   "execution_count": 70,
   "metadata": {},
   "outputs": [
    {
     "name": "stdout",
     "output_type": "stream",
     "text": [
      "TF-IDF Model\n",
      "\n",
      "Top 5 Results for Query: 'Junior Information Technology Support Engineer XBTO'\n",
      "1. Category: Information Technology\n",
      "\n",
      "   Text: information technology support engineer mizuho\n",
      "\n",
      "   Similarity: 0.6991\n",
      "==================================================\n",
      "2. Category: Information Technology\n",
      "\n",
      "   Text: information technology support engineer addnectar solutions\n",
      "\n",
      "   Similarity: 0.5687\n",
      "==================================================\n",
      "3. Category: Information Technology\n",
      "\n",
      "   Text: information technology manager accor\n",
      "\n",
      "   Similarity: 0.4977\n",
      "==================================================\n",
      "4. Category: Information Technology\n",
      "\n",
      "   Text: information technology manager accor\n",
      "\n",
      "   Similarity: 0.4977\n",
      "==================================================\n",
      "5. Category: Information Technology\n",
      "\n",
      "   Text: network engineer l2 l3 information technology zigsaw\n",
      "\n",
      "   Similarity: 0.4530\n",
      "==================================================\n"
     ]
    }
   ],
   "source": [
    "# Perform semantic search using TF-IDF\n",
    "print(\"TF-IDF Model\\n\")\n",
    "semantic_search_tf_idf(query, tf_idf_matrix, tf_idf_vectorizer)"
   ]
  },
  {
   "cell_type": "code",
   "execution_count": 71,
   "metadata": {},
   "outputs": [
    {
     "name": "stdout",
     "output_type": "stream",
     "text": [
      "DOC2VEC Model\n",
      "\n",
      "Top 5 Results for Query: 'Junior Information Technology Support Engineer XBTO'\n",
      "1. Category: Information Technology\n",
      "\n",
      "   Text: analyst ii technology operations walmart global tech india\n",
      "\n",
      "   Similarity: 0.7653\n",
      "==================================================\n",
      "2. Category: Information Technology\n",
      "\n",
      "   Text: vice president corporate ops qualys\n",
      "\n",
      "   Similarity: 0.7585\n",
      "==================================================\n",
      "3. Category: Information Technology\n",
      "\n",
      "   Text: information technology audit consultant nykaa\n",
      "\n",
      "   Similarity: 0.7582\n",
      "==================================================\n",
      "4. Category: Information Technology\n",
      "\n",
      "   Text: information technology support engineer addnectar solutions\n",
      "\n",
      "   Similarity: 0.7581\n",
      "==================================================\n",
      "5. Category: Information Technology\n",
      "\n",
      "   Text: senior manager infra workspace ab inbev\n",
      "\n",
      "   Similarity: 0.7579\n",
      "==================================================\n"
     ]
    }
   ],
   "source": [
    "# Perform semantic search using Doc2Vec\n",
    "print(\"DOC2VEC Model\\n\")\n",
    "semantic_search_doc2vec(query, documents_doc2vec_embeddings, doc2vec_model)"
   ]
  },
  {
   "cell_type": "code",
   "execution_count": 72,
   "metadata": {},
   "outputs": [
    {
     "name": "stdout",
     "output_type": "stream",
     "text": [
      "MINILM Model\n",
      "\n",
      "Top 5 Results for Query: 'Junior Information Technology Support Engineer XBTO'\n",
      "1. Category: Information Technology\n",
      "\n",
      "   Text: technical support engineer xenonstack\n",
      "\n",
      "   Similarity: 0.8011\n",
      "==================================================\n",
      "2. Category: Information Technology\n",
      "\n",
      "   Text: information technology support engineer mizuho\n",
      "\n",
      "   Similarity: 0.7525\n",
      "==================================================\n",
      "3. Category: Information Technology\n",
      "\n",
      "   Text: information technology help desk analyst exela technologies\n",
      "\n",
      "   Similarity: 0.7338\n",
      "==================================================\n",
      "4. Category: Information Technology\n",
      "\n",
      "   Text: desktop support engineer thoughtsol infotech pvt ltd\n",
      "\n",
      "   Similarity: 0.7304\n",
      "==================================================\n",
      "5. Category: Information Technology\n",
      "\n",
      "   Text: desktop support engineer thoughtsol infotech pvt ltd\n",
      "\n",
      "   Similarity: 0.7304\n",
      "==================================================\n"
     ]
    }
   ],
   "source": [
    "# Perform semantic search using MiniLM\n",
    "print(\"MINILM Model\\n\")\n",
    "semantic_search_minilm(query, documents_minilm_embeddings, tokenizer, model)"
   ]
  },
  {
   "cell_type": "markdown",
   "metadata": {},
   "source": [
    "# 5. Values for Plotting Graphs"
   ]
  },
  {
   "cell_type": "code",
   "execution_count": 73,
   "metadata": {},
   "outputs": [
    {
     "name": "stdout",
     "output_type": "stream",
     "text": [
      "[0.6991476318951997, 0.5687337269221091, 0.49768143694872163, 0.49768143694872163, 0.4529978807698436]\n",
      "[0.52643555, 0.52177525, 0.5215876, 0.5206318, 0.52019]\n",
      "[0.8010598761254286, 0.7525262135502158, 0.7337858317371178, 0.7303636711964467, 0.7303636711964467]\n"
     ]
    }
   ],
   "source": [
    "def semantic_search_tf_idf(query, tf_idf_matrix, tf_idf_vectorizer, top_n=5):\n",
    "    # Clean the query\n",
    "    cleaned_query = clean_text(query)\n",
    "    # Vectorize the cleaned query\n",
    "    query_vector = tf_idf_vectorizer.transform([cleaned_query])\n",
    "    # Calculate cosine similarities between the query and all vectors in the dataset\n",
    "    cosine_similarities = cosine_similarity(query_vector, tf_idf_matrix).flatten()\n",
    "    # Get the top_n similar documents to the query\n",
    "    related_docs_indices = np.argsort(cosine_similarities)[-top_n:][::-1]\n",
    "\n",
    "    # Extract similarity values only\n",
    "    similarity_values = [cosine_similarities[idx] for idx in related_docs_indices]\n",
    "    return similarity_values\n",
    "def semantic_search_doc2vec(query, documents_doc2vec_embeddings, model, top_n=5):\n",
    "\n",
    "    # Clean the query\n",
    "    cleaned_query = clean_text(query)\n",
    "    # Tokenize the cleaned query\n",
    "    query_words = cleaned_query.split()\n",
    "    # Get the embedding of the query\n",
    "    query_embedding = model.infer_vector(query_words)\n",
    "    # Calculate cosine similarities between the query and all vectors in the dataset\n",
    "    cosine_similarities = cosine_similarity([query_embedding], documents_doc2vec_embeddings)[0]\n",
    "    # Get the top_n similar documents to the query\n",
    "    related_docs_indices = np.argsort(cosine_similarities)[-top_n:][::-1]\n",
    "\n",
    "    # Extract similarity values only\n",
    "    similarity_values = [cosine_similarities[idx] for idx in related_docs_indices]\n",
    "    return similarity_values\n",
    "def semantic_search_minilm(query, documents_minilm_embeddings, tokenizer, model, top_n=5):\n",
    "    # Clean the query\n",
    "    cleaned_query = clean_text(query)\n",
    "    # Tokenize the `cleaned_query` to get `input_ids` and `attention_mask`\n",
    "    encoded_input = tokenizer(cleaned_query, truncation=True, return_tensors=\"tf\")\n",
    "    # Get the query embedding by passing the encoded input to the model\n",
    "    query_embedding = model(**encoded_input).pooler_output.numpy()\n",
    "    # Calculate cosine similarities between the query and all other documents in the dataset\n",
    "    cosine_similarities = cosine_similarity(query_embedding, documents_minilm_embeddings)[0]\n",
    "    # Get the top_n similar documents to the query\n",
    "    related_docs_indices = np.argsort(cosine_similarities)[-top_n:][::-1]\n",
    "\n",
    "    # Extract similarity values only\n",
    "    similarity_values = [cosine_similarities[idx] for idx in related_docs_indices]\n",
    "    return similarity_values\n",
    "tfidf_scores = semantic_search_tf_idf(query, tf_idf_matrix, tf_idf_vectorizer)\n",
    "doc2vec_scores = semantic_search_doc2vec(query, documents_doc2vec_embeddings, doc2vec_model)\n",
    "minilm_scores = semantic_search_minilm(query, documents_minilm_embeddings, tokenizer, model)\n",
    "print(tfidf_scores)\n",
    "print(doc2vec_scores)\n",
    "print(minilm_scores)\n"
   ]
  },
  {
   "cell_type": "code",
   "execution_count": 74,
   "metadata": {},
   "outputs": [
    {
     "data": {
      "image/png": "[encoded data removed]",
      "text/plain": [
       "<Figure size 800x600 with 1 Axes>"
      ]
     },
     "metadata": {},
     "output_type": "display_data"
    }
   ],
   "source": [
    "import matplotlib.pyplot as plt\n",
    "import numpy as np\n",
    "\n",
    "# Create separate lines for each model\n",
    "plt.figure(figsize=(8, 6))\n",
    "plt.plot(range(len(tfidf_scores)), tfidf_scores, label=\"TF-IDF\", color=\"b\")\n",
    "plt.plot(range(len(doc2vec_scores)), doc2vec_scores, label=\"Doc2Vec\", color=\"g\")\n",
    "plt.plot(range(len(minilm_scores)), minilm_scores, label=\"MiniLM\", color=\"r\")\n",
    "\n",
    "# Add labels and title\n",
    "plt.xlabel(\"Document Index\")\n",
    "plt.ylabel(\"Model Scores\")\n",
    "plt.title(\"Comparison of TF-IDF, Doc2Vec, and MiniLM Scores\")\n",
    "plt.legend()\n",
    "\n",
    "# Show the plot\n",
    "plt.grid(True)\n",
    "plt.show()\n"
   ]
  },
  {
   "cell_type": "markdown",
   "metadata": {},
   "source": [
    "# Final Conclusion\n",
    "In conclusion, based on the outcomes discussed above, it is evident that fundamental techniques like `TF-IDF` continue to perform remarkably well even without the use of neural networks. The results obtained with `Doc2Vec` demonstrate decent performance relying on fixed embeddings. However, the most effective technique appears to be the `MiniLM transformer-based` model, primarily owing to its utilization of **attention mechanisms** that can harness **contextualized embeddings**."
   ]
  }
 ],
 "metadata": {
  "kernelspec": {
   "display_name": "Python 3",
   "language": "python",
   "name": "python3"
  },
  "language_info": {
   "codemirror_mode": {
    "name": "ipython",
    "version": 3
   },
   "file_extension": ".py",
   "mimetype": "text/x-python",
   "name": "python",
   "nbconvert_exporter": "python",
   "pygments_lexer": "ipython3",
   "version": "3.11.4"
  }
 },
 "nbformat": 4,
 "nbformat_minor": 2
}
